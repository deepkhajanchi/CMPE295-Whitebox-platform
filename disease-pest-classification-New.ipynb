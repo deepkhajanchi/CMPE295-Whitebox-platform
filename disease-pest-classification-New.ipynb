{
 "cells": [
  {
   "cell_type": "markdown",
   "metadata": {
    "colab_type": "text",
    "id": "spCEG7AQzM3B"
   },
   "source": [
    "# Grape diseases and pests classification\n",
    "\n",
    "**Chi Tran - CMPE 295**"
   ]
  },
  {
   "cell_type": "markdown",
   "metadata": {
    "colab_type": "text",
    "id": "BEwoSBNG0aTs"
   },
   "source": [
    "## Data structure"
   ]
  },
  {
   "cell_type": "markdown",
   "metadata": {
    "colab_type": "text",
    "id": "m8P9jMXr2Zoi"
   },
   "source": [
    "I will apply an unsupervised machine learning model to recognize and classify the images. Therefore, Keras ImageDataGenerator is the best choice. As mentioned on the website: https://medium.com/@vijayabhaskar96/tutorial-image-classification-with-keras-flow-from-directory-and-generators-95f75ebe5720, my data will be divided into sub-folders that corresponding to image classes under train, validation, and test folders.\n",
    "![](https://cdn-images-1.medium.com/max/800/1*HpvpA9pBJXKxaPCl5tKnLg.jpeg)\n"
   ]
  },
  {
   "cell_type": "code",
   "execution_count": 1,
   "metadata": {},
   "outputs": [
    {
     "name": "stderr",
     "output_type": "stream",
     "text": [
      "Using TensorFlow backend.\n"
     ]
    },
    {
     "name": "stdout",
     "output_type": "stream",
     "text": [
      "TensorFlow version: 2.2.0\n",
      "Keras version: 2.3.0-tf\n"
     ]
    }
   ],
   "source": [
    "from __future__ import (absolute_import, \n",
    "                    division, \n",
    "                    print_function, \n",
    "                    unicode_literals)\n",
    "import os\n",
    "import glob\n",
    "import time\n",
    "import numpy as np\n",
    "import pandas as pd\n",
    "import math\n",
    "import seaborn as sns\n",
    "import random\n",
    "import shutil\n",
    "import pylab\n",
    "import matplotlib.pyplot as plt\n",
    "import matplotlib.patheffects as PathEffects\n",
    "import tensorflow as tf\n",
    "import h5py\n",
    "import keras\n",
    "from keras import models, layers, optimizers \n",
    "from keras.models import load_model\n",
    "from keras import backend as K\n",
    "from keras.preprocessing import image\n",
    "from keras.preprocessing.image import ImageDataGenerator\n",
    "from PIL import Image\n",
    "from mpl_toolkits.axes_grid1 import ImageGrid\n",
    "from keras.applications import imagenet_utils\n",
    "from sklearn.decomposition import PCA\n",
    "from sklearn.preprocessing import StandardScaler\n",
    "from sklearn.metrics import confusion_matrix, classification_report\n",
    "from sklearn.manifold import TSNE\n",
    "from ipywidgets import interact, interactive, fixed, interact_manual, Layout, Button, Box, VBox, HBox, FloatText, Textarea, Dropdown, Label, IntSlider\n",
    "import ipywidgets as widgets\n",
    "\n",
    "# Set random seed for consistency\n",
    "random.seed(150)\n",
    "np.random.seed(150)\n",
    "tf.random.set_seed(150)\n",
    "\n",
    "# Displays all outputs of a cell \n",
    "from IPython.core.interactiveshell import InteractiveShell\n",
    "InteractiveShell.ast_node_interactivity = 'all'\n",
    "\n",
    "%matplotlib inline\n",
    "plt.rcParams['figure.figsize'] = [15, 4]\n",
    "\n",
    "print('TensorFlow version:', tf.__version__)\n",
    "print('Keras version:', tf.keras.__version__)\n",
    "    \n"
   ]
  },
  {
   "cell_type": "markdown",
   "metadata": {},
   "source": [
    "### Create data folders"
   ]
  },
  {
   "cell_type": "code",
   "execution_count": 2,
   "metadata": {
    "colab": {},
    "colab_type": "code",
    "id": "YoGEwKnp0c3P"
   },
   "outputs": [
    {
     "data": {
      "text/plain": [
       "<module 'setup.data_structure' from 'C:\\\\Users\\\\chitt\\\\Chi Tran_CMPE295\\\\setup\\\\data_structure.py'>"
      ]
     },
     "execution_count": 2,
     "metadata": {},
     "output_type": "execute_result"
    },
    {
     "data": {
      "text/plain": [
       "<module 'setup.data_normalization' from 'C:\\\\Users\\\\chitt\\\\Chi Tran_CMPE295\\\\setup\\\\data_normalization.py'>"
      ]
     },
     "execution_count": 2,
     "metadata": {},
     "output_type": "execute_result"
    }
   ],
   "source": [
    "import importlib\n",
    "from setup import data_structure as ds, data_normalization as dn\n",
    "importlib.reload(ds)\n",
    "importlib.reload(dn)"
   ]
  },
  {
   "cell_type": "code",
   "execution_count": 3,
   "metadata": {},
   "outputs": [],
   "source": [
    "ds.create_data_folders()"
   ]
  },
  {
   "cell_type": "markdown",
   "metadata": {
    "colab_type": "text",
    "id": "9hgpqg_740zq"
   },
   "source": [
    "### Collect Images in each class"
   ]
  },
  {
   "cell_type": "code",
   "execution_count": 4,
   "metadata": {
    "colab": {
     "base_uri": "https://localhost:8080/",
     "height": 106
    },
    "colab_type": "code",
    "executionInfo": {
     "elapsed": 1010,
     "status": "ok",
     "timestamp": 1556657423110,
     "user": {
      "displayName": "Alex Lim",
      "photoUrl": "https://lh5.googleusercontent.com/-1gZhw-_QR0c/AAAAAAAAAAI/AAAAAAAAAZQ/HMrUSEjOkJc/s64/photo.jpg",
      "userId": "12332462604429038341"
     },
     "user_tz": 420
    },
    "id": "3VFxOcMC42xZ",
    "outputId": "9aece4e7-91de-4c59-b509-42383a4eebe5"
   },
   "outputs": [
    {
     "name": "stdout",
     "output_type": "stream",
     "text": [
      "There are 200 images in phylloxera class\n",
      "There are 534 images in mealybug class\n",
      "There are 120 images in black measles class\n",
      "There are 120 images in black rot class\n",
      "There are 156 images in leaf blight class\n",
      "There are 120 images in healthy class\n"
     ]
    }
   ],
   "source": [
    "ds.collect_images()"
   ]
  },
  {
   "cell_type": "markdown",
   "metadata": {},
   "source": [
    "### Show data distribution"
   ]
  },
  {
   "cell_type": "markdown",
   "metadata": {
    "colab_type": "text",
    "id": "JIp9-xv6Uo2h"
   },
   "source": [
    "### Checking data allocation after spliting"
   ]
  },
  {
   "cell_type": "code",
   "execution_count": 5,
   "metadata": {
    "colab": {
     "base_uri": "https://localhost:8080/",
     "height": 710
    },
    "colab_type": "code",
    "executionInfo": {
     "elapsed": 565,
     "status": "ok",
     "timestamp": 1556657435059,
     "user": {
      "displayName": "Alex Lim",
      "photoUrl": "https://lh5.googleusercontent.com/-1gZhw-_QR0c/AAAAAAAAAAI/AAAAAAAAAZQ/HMrUSEjOkJc/s64/photo.jpg",
      "userId": "12332462604429038341"
     },
     "user_tz": 420
    },
    "id": "W1JvJwj2IZlR",
    "outputId": "bf5bd8a7-ae29-443c-ee59-88c76f84d071"
   },
   "outputs": [
    {
     "name": "stdout",
     "output_type": "stream",
     "text": [
      "Total images: 1250\n",
      "Total phylloxera: 200\n",
      "Total mealybug: 534\n",
      "Total black measles: 120\n",
      "Total black rot: 120\n",
      "Total leaf blight: 156\n",
      "Total healthy: 120\n",
      "\n",
      "Total of training phylloxera images: 128\n",
      "Total of training mealybug images: 342\n",
      "Total of training black measles images: 77\n",
      "Total of training black rot images: 77\n",
      "Total of training leaf blight images: 100\n",
      "Total of training healthy images: 77\n",
      "\n",
      "Total of validation phylloxera images: 32\n",
      "Total of validation mealybug images: 85\n",
      "Total of validation black measles images: 19\n",
      "Total of validation black rot images: 19\n",
      "Total of validation leaf blight images: 24\n",
      "Total of validation healthy images: 19\n",
      "\n",
      "Total of test phylloxera images: 40\n",
      "Total of test mealybug images: 107\n",
      "Total of test black measles images: 24\n",
      "Total of test black rot images: 24\n",
      "Total of test leaf blight images: 32\n",
      "Total of test healthy images: 24\n",
      "\n",
      "Training distribution\n",
      "Phylloxera class occupies: 9.61%\n",
      "Mealybug class occupies: 9.61%\n",
      "Black measles class occupies: 12.48%\n",
      "Black rot class occupies: 9.61%\n",
      "Left blight class occupies: 15.98%\n",
      "Healthy class occupies: 42.70%\n",
      "\n",
      "Validation distribution\n",
      "Phylloxera class occupies: 9.60%\n",
      "Mealybug class occupies: 9.60%\n",
      "Black measles class occupies: 12.12%\n",
      "Black rot class occupies: 9.60%\n",
      "Left blight class occupies: 16.16%\n",
      "Healthy class occupies: 42.93%\n",
      "\n",
      "Test distribution\n",
      "Phylloxera class occupies: 9.56%\n",
      "Mealybug class occupies: 9.56%\n",
      "Black measles class occupies: 12.75%\n",
      "Black rot class occupies: 9.56%\n",
      "Left blight class occupies: 15.94%\n",
      "Healthy class occupies: 42.63%\n",
      "\n"
     ]
    }
   ],
   "source": [
    "# Checking data\n",
    "total_train_phylloxera = len(os.listdir(ds.train_phylloxera))\n",
    "total_train_mealybug = len(os.listdir(ds.train_mealybug))\n",
    "total_train_b_measles = len(os.listdir(ds.train_b_measles))\n",
    "total_train_b_rot = len(os.listdir(ds.train_b_rot))\n",
    "total_train_leaf_blight = len(os.listdir(ds.train_leaf_blight))\n",
    "total_train_healthy = len(os.listdir(ds.train_healthy))\n",
    "\n",
    "total_valid_phylloxera = len(os.listdir(ds.val_phylloxera))\n",
    "total_valid_mealybug = len(os.listdir(ds.val_mealybug))\n",
    "total_valid_b_measles = len(os.listdir(ds.val_b_measles))\n",
    "total_valid_b_rot = len(os.listdir(ds.val_b_rot))\n",
    "total_valid_leaf_blight = len(os.listdir(ds.val_leaf_blight))\n",
    "total_valid_healthy = len(os.listdir(ds.val_healthy))\n",
    "\n",
    "total_test_phylloxera = len(os.listdir(ds.test_phylloxera))\n",
    "total_test_mealybug = len(os.listdir(ds.test_mealybug))\n",
    "total_test_b_measles = len(os.listdir(ds.test_b_measles))\n",
    "total_test_b_rot = len(os.listdir(ds.test_b_rot))\n",
    "total_test_leaf_blight = len(os.listdir(ds.test_leaf_blight))\n",
    "total_test_healthy = len(os.listdir(ds.test_healthy))\n",
    "\n",
    "total_train = total_train_b_measles + total_train_b_rot + \\\n",
    "                total_train_leaf_blight + total_train_healthy + total_train_phylloxera + total_train_mealybug\n",
    "total_valid = total_valid_b_measles + total_valid_b_rot + \\\n",
    "              total_valid_leaf_blight + total_valid_healthy + total_valid_phylloxera + total_valid_mealybug\n",
    "total_test = total_test_b_measles + total_test_b_rot + \\\n",
    "              total_test_leaf_blight + total_test_healthy + total_test_phylloxera + total_test_mealybug\n",
    "\n",
    "def check_dist(total, phylloxera, mealybug, black_measles, black_rot, leaf_blight, healthy):\n",
    "  print('Phylloxera class occupies: {:.2f}%'.format((phylloxera / total)*100.0))\n",
    "  print('Mealybug class occupies: {:.2f}%'.format((mealybug / total)*100.0))\n",
    "  print('Black measles class occupies: {:.2f}%'.format((black_measles/total)*100.0))\n",
    "  print('Black rot class occupies: {:.2f}%'.format((black_rot / total)*100))\n",
    "  print('Left blight class occupies: {:.2f}%'.format((leaf_blight / total)*100.0))\n",
    "  print('Healthy class occupies: {:.2f}%'.format((healthy / total)*100.0))\n",
    "  print()\n",
    "  \n",
    "print('Total images:', total_train + total_valid + total_test)\n",
    "print('Total phylloxera:', total_train_phylloxera + total_valid_phylloxera + total_test_phylloxera)\n",
    "print('Total mealybug:', total_train_mealybug + total_valid_mealybug + total_test_mealybug)\n",
    "print('Total black measles:', total_train_b_measles + total_valid_b_measles + total_test_b_measles)\n",
    "print('Total black rot:', total_train_b_rot + total_valid_b_rot + total_test_b_rot)\n",
    "print('Total leaf blight:', total_train_leaf_blight + total_valid_leaf_blight + total_test_leaf_blight)\n",
    "print('Total healthy:', total_train_healthy + total_valid_healthy + total_test_healthy)\n",
    "print()\n",
    "\n",
    "print('Total of training phylloxera images:', total_train_phylloxera)\n",
    "print('Total of training mealybug images:', total_train_mealybug)\n",
    "print('Total of training black measles images:', total_train_b_measles)\n",
    "print('Total of training black rot images:', total_train_b_rot)\n",
    "print('Total of training leaf blight images:', total_train_leaf_blight)\n",
    "print('Total of training healthy images:', total_train_healthy)\n",
    "print()\n",
    "\n",
    "print('Total of validation phylloxera images:', total_valid_phylloxera)\n",
    "print('Total of validation mealybug images:', total_valid_mealybug)\n",
    "print('Total of validation black measles images:', total_valid_b_measles)\n",
    "print('Total of validation black rot images:', total_valid_b_rot)\n",
    "print('Total of validation leaf blight images:', total_valid_leaf_blight)\n",
    "print('Total of validation healthy images:', total_valid_healthy)\n",
    "print()\n",
    "\n",
    "print('Total of test phylloxera images:', total_test_phylloxera)\n",
    "print('Total of test mealybug images:', total_test_mealybug)\n",
    "print('Total of test black measles images:', total_test_b_measles)\n",
    "print('Total of test black rot images:', total_test_b_rot)\n",
    "print('Total of test leaf blight images:', total_test_leaf_blight)\n",
    "print('Total of test healthy images:', total_test_healthy)\n",
    "print()\n",
    "\n",
    "print('Training distribution')\n",
    "check_dist(total_train, total_train_b_measles, total_train_b_rot,\n",
    "                    total_train_leaf_blight, total_train_healthy, total_train_phylloxera, total_train_mealybug)\n",
    "print('Validation distribution')\n",
    "check_dist(total_valid, total_valid_b_measles, total_valid_b_rot,\n",
    "                    total_valid_leaf_blight, total_valid_healthy, total_valid_phylloxera, total_valid_mealybug)\n",
    "print('Test distribution')\n",
    "check_dist(total_test, total_test_b_measles, total_test_b_rot,\n",
    "                    total_test_leaf_blight, total_test_healthy, total_test_phylloxera, total_test_mealybug)\n"
   ]
  },
  {
   "cell_type": "markdown",
   "metadata": {
    "colab_type": "text",
    "id": "BL0w3GRGgYAA"
   },
   "source": [
    "## Data Analysis"
   ]
  },
  {
   "cell_type": "markdown",
   "metadata": {
    "colab_type": "text",
    "id": "bfplkVqyqZss"
   },
   "source": [
    "### Observe Data Images"
   ]
  },
  {
   "cell_type": "code",
   "execution_count": 6,
   "metadata": {},
   "outputs": [
    {
     "data": {
      "text/plain": [
       "<module 'utilities.data_observation' from 'C:\\\\Users\\\\chitt\\\\Chi Tran_CMPE295\\\\utilities\\\\data_observation.py'>"
      ]
     },
     "execution_count": 6,
     "metadata": {},
     "output_type": "execute_result"
    }
   ],
   "source": [
    "from utilities import data_observation as do\n",
    "importlib.reload(do)"
   ]
  },
  {
   "cell_type": "markdown",
   "metadata": {},
   "source": [
    "### Load images into numpy arrays"
   ]
  },
  {
   "cell_type": "code",
   "execution_count": 7,
   "metadata": {
    "colab": {},
    "colab_type": "code",
    "id": "mzgXgvUOqJ9r"
   },
   "outputs": [],
   "source": [
    "# Load numpy arrays from the folder\n",
    "phylloxera_numpy = np.load(os.path.join(ds.bin_data, 'phylloxera.npy'))\n",
    "mealybug_numpy = np.load(os.path.join(ds.bin_data, 'mealybug.npy'))\n",
    "b_measles_numpy = np.load(os.path.join(ds.bin_data, 'black_measles.npy'))\n",
    "b_rot_numpy = np.load(os.path.join(ds.bin_data, 'black_rot.npy'))\n",
    "leaf_blight_numpy = np.load(os.path.join(ds.bin_data, 'leaf_blight.npy'))\n",
    "healthy_numpy = np.load(os.path.join(ds.bin_data, 'healthy.npy'))"
   ]
  },
  {
   "cell_type": "code",
   "execution_count": 8,
   "metadata": {
    "colab": {},
    "colab_type": "code",
    "id": "ve-CIW-ZqilN"
   },
   "outputs": [],
   "source": [
    "# Reshape numpy arrays into sizes of 256x256x3 as input data\n",
    "phylloxera_numpy = phylloxera_numpy.reshape(128, 256*256*3)\n",
    "mealybug_numpy = mealybug_numpy.reshape(342, 256*256*3)\n",
    "b_measles_numpy = b_measles_numpy.reshape(77, 256*256*3)\n",
    "b_rot_numpy = b_rot_numpy.reshape(77, 256*256*3)\n",
    "leaf_blight_numpy = leaf_blight_numpy.reshape(100, 256*256*3)\n",
    "healthy_numpy = healthy_numpy.reshape(77, 256*256*3)"
   ]
  },
  {
   "cell_type": "markdown",
   "metadata": {
    "colab_type": "text",
    "id": "eQ19PPk94dP7"
   },
   "source": [
    "### Visualize data"
   ]
  },
  {
   "cell_type": "code",
   "execution_count": 9,
   "metadata": {
    "colab": {},
    "colab_type": "code",
    "id": "KNreK2iBfLNV"
   },
   "outputs": [
    {
     "data": {
      "text/plain": [
       "<module 'utilities.data_visualization' from 'C:\\\\Users\\\\chitt\\\\Chi Tran_CMPE295\\\\utilities\\\\data_visualization.py'>"
      ]
     },
     "execution_count": 9,
     "metadata": {},
     "output_type": "execute_result"
    }
   ],
   "source": [
    "from utilities import data_visualization as dv\n",
    "importlib.reload(dv)"
   ]
  },
  {
   "cell_type": "code",
   "execution_count": 10,
   "metadata": {
    "colab": {},
    "colab_type": "code",
    "id": "DX-iVAbpbh5T"
   },
   "outputs": [],
   "source": [
    "# Create data labels for all classes in 1D\n",
    "phylloxera_label = np.full(phylloxera_numpy.shape[0], 'phylloxera')\n",
    "mealybug_label = np.full(mealybug_numpy.shape[0], 'mealybug')\n",
    "b_measles_label = np.full(b_measles_numpy.shape[0], 'black_measles')\n",
    "b_rot_label = np.full(b_rot_numpy.shape[0], 'black_rot')\n",
    "leaf_blight_label = np.full(leaf_blight_numpy.shape[0], 'leaf_blight')\n",
    "healthy_label = np.full(healthy_numpy.shape[0], 'healthy')\n",
    "\n",
    "labels = (phylloxera_label, mealybug_label, b_measles_label, b_rot_label, leaf_blight_label, healthy_label)\n",
    "labels = np.hstack(labels) "
   ]
  },
  {
   "cell_type": "code",
   "execution_count": 11,
   "metadata": {
    "colab": {},
    "colab_type": "code",
    "id": "TpHkcwm4wRQl"
   },
   "outputs": [],
   "source": [
    "# Create a stack of numpy arrays \n",
    "tuple_data = (phylloxera_numpy, mealybug_numpy, b_measles_numpy, b_rot_numpy, leaf_blight_numpy, healthy_numpy)\n",
    "\n",
    "# normalize tuple data\n",
    "nomalized_data = np.vstack(tup=tuple_data)/255. "
   ]
  },
  {
   "cell_type": "code",
   "execution_count": 12,
   "metadata": {
    "colab": {
     "base_uri": "https://localhost:8080/",
     "height": 34
    },
    "colab_type": "code",
    "executionInfo": {
     "elapsed": 40487,
     "status": "ok",
     "timestamp": 1556594149752,
     "user": {
      "displayName": "Alex Lim",
      "photoUrl": "https://lh5.googleusercontent.com/-1gZhw-_QR0c/AAAAAAAAAAI/AAAAAAAAAZQ/HMrUSEjOkJc/s64/photo.jpg",
      "userId": "12332462604429038341"
     },
     "user_tz": 420
    },
    "id": "LyR6Ib3ZXPGP",
    "outputId": "171828ab-da0f-4c92-882f-a278f6955119"
   },
   "outputs": [
    {
     "name": "stdout",
     "output_type": "stream",
     "text": [
      "This process took 9.48 seconds.\n"
     ]
    }
   ],
   "source": [
    "# Run PCA on nomalized data\n",
    "start_time = time.time()\n",
    "pca = PCA(n_components=60)\n",
    "nomalized_data_pca = pca.fit_transform(nomalized_data)\n",
    "end_time = time.time()\n",
    "\n",
    "print('This process took {:.2f} seconds.'.format(end_time-start_time))"
   ]
  },
  {
   "cell_type": "code",
   "execution_count": 13,
   "metadata": {
    "colab": {
     "base_uri": "https://localhost:8080/",
     "height": 34
    },
    "colab_type": "code",
    "executionInfo": {
     "elapsed": 58928,
     "status": "ok",
     "timestamp": 1556594168706,
     "user": {
      "displayName": "Alex Lim",
      "photoUrl": "https://lh5.googleusercontent.com/-1gZhw-_QR0c/AAAAAAAAAAI/AAAAAAAAAZQ/HMrUSEjOkJc/s64/photo.jpg",
      "userId": "12332462604429038341"
     },
     "user_tz": 420
    },
    "id": "jplEc-bJejVc",
    "outputId": "eb77b3b4-3b74-43ea-9488-06376f21aec5"
   },
   "outputs": [
    {
     "name": "stdout",
     "output_type": "stream",
     "text": [
      "This process took 5.75 seconds\n"
     ]
    }
   ],
   "source": [
    "# Run t-SNE on data\n",
    "start_time = time.time()\n",
    "tsne = TSNE(n_components=2)\n",
    "nomalized_data_tsne = tsne.fit_transform(nomalized_data_pca)\n",
    "end_time = time.time()\n",
    "\n",
    "print('This process took {:.2f} seconds'.format(end_time-start_time))"
   ]
  },
  {
   "cell_type": "markdown",
   "metadata": {
    "colab_type": "text",
    "id": "vPKAMyS5vJts"
   },
   "source": [
    "## Training data"
   ]
  },
  {
   "cell_type": "markdown",
   "metadata": {
    "colab_type": "text",
    "id": "29IF2WfW7JG7"
   },
   "source": [
    "### Libraries"
   ]
  },
  {
   "cell_type": "markdown",
   "metadata": {
    "colab_type": "text",
    "id": "TrJF67vL8d3s"
   },
   "source": [
    "### Set up hyper-parameters"
   ]
  },
  {
   "cell_type": "code",
   "execution_count": 14,
   "metadata": {
    "colab": {
     "base_uri": "https://localhost:8080/",
     "height": 70
    },
    "colab_type": "code",
    "executionInfo": {
     "elapsed": 211,
     "status": "ok",
     "timestamp": 1556657467218,
     "user": {
      "displayName": "Alex Lim",
      "photoUrl": "https://lh5.googleusercontent.com/-1gZhw-_QR0c/AAAAAAAAAAI/AAAAAAAAAZQ/HMrUSEjOkJc/s64/photo.jpg",
      "userId": "12332462604429038341"
     },
     "user_tz": 420
    },
    "id": "Xhz3K_rC8auf",
    "outputId": "566b2e97-3faf-4c43-b7db-0c115f054e13"
   },
   "outputs": [
    {
     "name": "stdout",
     "output_type": "stream",
     "text": [
      "Total number of training data: 801\n",
      "Total number of validation data: 198\n",
      "Total number of test data: 251\n"
     ]
    }
   ],
   "source": [
    "image_height, image_width = 256, 256\n",
    "batch_size = 30\n",
    "epochs = 3\n",
    "\n",
    "print('Total number of training data:', total_train)\n",
    "print('Total number of validation data:', total_valid)\n",
    "print('Total number of test data:', total_test)"
   ]
  },
  {
   "cell_type": "markdown",
   "metadata": {
    "colab_type": "text",
    "id": "pXCAXnPqzIRd"
   },
   "source": [
    "### Training from Scratch"
   ]
  },
  {
   "cell_type": "code",
   "execution_count": 15,
   "metadata": {
    "colab": {
     "base_uri": "https://localhost:8080/",
     "height": 51
    },
    "colab_type": "code",
    "executionInfo": {
     "elapsed": 695,
     "status": "ok",
     "timestamp": 1556594300556,
     "user": {
      "displayName": "Alex Lim",
      "photoUrl": "https://lh5.googleusercontent.com/-1gZhw-_QR0c/AAAAAAAAAAI/AAAAAAAAAZQ/HMrUSEjOkJc/s64/photo.jpg",
      "userId": "12332462604429038341"
     },
     "user_tz": 420
    },
    "id": "S9fM4a684Q2C",
    "outputId": "11893a93-f9cb-4538-a345-267b62ba22ec"
   },
   "outputs": [
    {
     "name": "stdout",
     "output_type": "stream",
     "text": [
      "Found 801 images belonging to 6 classes.\n",
      "Found 198 images belonging to 6 classes.\n"
     ]
    }
   ],
   "source": [
    "# Rescale data\n",
    "training_datagenerator = ImageDataGenerator(rescale=1./255)\n",
    "test_datagenerator = ImageDataGenerator(rescale=1./255)\n",
    "\n",
    "training_gen = training_datagenerator.flow_from_directory(\n",
    "                    ds.train_fold,\n",
    "                    target_size=(image_height, image_width),\n",
    "                    color_mode='rgb',\n",
    "                    batch_size=batch_size,\n",
    "                    class_mode='categorical',\n",
    "                    shuffle=True, \n",
    "                    seed=30)\n",
    "\n",
    "valid_gen = test_datagenerator.flow_from_directory(\n",
    "                          ds.val_fold,\n",
    "                          target_size=(image_height, image_width),\n",
    "                          color_mode='rgb',\n",
    "                          batch_size=batch_size,\n",
    "                          class_mode='categorical')"
   ]
  },
  {
   "cell_type": "code",
   "execution_count": 16,
   "metadata": {},
   "outputs": [
    {
     "name": "stdout",
     "output_type": "stream",
     "text": [
      "Found 198 images belonging to 6 classes.\n"
     ]
    }
   ],
   "source": [
    "# Create a new validation generator for evaluation\n",
    "valid_test_gen = test_datagenerator.flow_from_directory(\n",
    "                ds.val_fold,\n",
    "                target_size=(image_height, image_width),\n",
    "                color_mode='rgb',\n",
    "                batch_size=1,\n",
    "                class_mode='categorical',\n",
    "                shuffle=False)"
   ]
  },
  {
   "cell_type": "markdown",
   "metadata": {},
   "source": [
    "#### Build custom metrics "
   ]
  },
  {
   "cell_type": "code",
   "execution_count": 17,
   "metadata": {},
   "outputs": [],
   "source": [
    "from libraries import custom_metrics as cm, create_diagram as cd, multi_class_TF as mc, early_stopping as es, time_hist as th"
   ]
  },
  {
   "cell_type": "code",
   "execution_count": 18,
   "metadata": {},
   "outputs": [
    {
     "name": "stderr",
     "output_type": "stream",
     "text": [
      "NVMLError: NVML Shared Library Not Found - GPU usage metrics may not be reported.\n"
     ]
    },
    {
     "name": "stdout",
     "output_type": "stream",
     "text": [
      "https://ui.neptune.ai/chittp/sandbox/e/SAN-103\r\n"
     ]
    },
    {
     "data": {
      "text/plain": [
       "<module 'libraries.custom_metrics' from 'C:\\\\Users\\\\chitt\\\\Chi Tran_CMPE295\\\\libraries\\\\custom_metrics.py'>"
      ]
     },
     "execution_count": 18,
     "metadata": {},
     "output_type": "execute_result"
    },
    {
     "data": {
      "text/plain": [
       "<module 'libraries.multi_class_TF' from 'C:\\\\Users\\\\chitt\\\\Chi Tran_CMPE295\\\\libraries\\\\multi_class_TF.py'>"
      ]
     },
     "execution_count": 18,
     "metadata": {},
     "output_type": "execute_result"
    },
    {
     "data": {
      "text/plain": [
       "<module 'libraries.early_stopping' from 'C:\\\\Users\\\\chitt\\\\Chi Tran_CMPE295\\\\libraries\\\\early_stopping.py'>"
      ]
     },
     "execution_count": 18,
     "metadata": {},
     "output_type": "execute_result"
    },
    {
     "data": {
      "text/plain": [
       "<module 'libraries.time_hist' from 'C:\\\\Users\\\\chitt\\\\Chi Tran_CMPE295\\\\libraries\\\\time_hist.py'>"
      ]
     },
     "execution_count": 18,
     "metadata": {},
     "output_type": "execute_result"
    },
    {
     "data": {
      "text/plain": [
       "<module 'libraries.performance_visualization' from 'C:\\\\Users\\\\chitt\\\\Chi Tran_CMPE295\\\\libraries\\\\performance_visualization.py'>"
      ]
     },
     "execution_count": 18,
     "metadata": {},
     "output_type": "execute_result"
    },
    {
     "name": "stdout",
     "output_type": "stream",
     "text": [
      "https://ui.neptune.ai/chittp/sandbox/e/SAN-104\r\n"
     ]
    },
    {
     "data": {
      "text/plain": [
       "<module 'libraries.neptune_callback' from 'C:\\\\Users\\\\chitt\\\\Chi Tran_CMPE295\\\\libraries\\\\neptune_callback.py'>"
      ]
     },
     "execution_count": 18,
     "metadata": {},
     "output_type": "execute_result"
    }
   ],
   "source": [
    "\n",
    "from libraries import performance_visualization as pv, neptune_callback as nc\n",
    "importlib.reload(cm)\n",
    "\n",
    "importlib.reload(mc)\n",
    "importlib.reload(es)\n",
    "importlib.reload(th)\n",
    "importlib.reload(pv)\n",
    "importlib.reload(nc)"
   ]
  },
  {
   "cell_type": "code",
   "execution_count": 19,
   "metadata": {},
   "outputs": [
    {
     "data": {
      "text/plain": [
       "<module 'libraries.create_diagram' from 'C:\\\\Users\\\\chitt\\\\Chi Tran_CMPE295\\\\libraries\\\\create_diagram.py'>"
      ]
     },
     "execution_count": 19,
     "metadata": {},
     "output_type": "execute_result"
    }
   ],
   "source": [
    "importlib.reload(cd)"
   ]
  },
  {
   "cell_type": "code",
   "execution_count": 20,
   "metadata": {},
   "outputs": [],
   "source": [
    "def recall(y_true, y_pred):\n",
    "    y_true = K.ones_like(y_true) \n",
    "    true_positives = K.sum(K.round(K.clip(y_true * y_pred, 0, 1)))\n",
    "    all_positives = K.sum(K.round(K.clip(y_true, 0, 1)))\n",
    "    \n",
    "    recall = true_positives / (all_positives + K.epsilon())\n",
    "    return recall\n",
    "\n",
    "def precision(y_true, y_pred):\n",
    "    y_true = K.ones_like(y_true) \n",
    "    true_positives = K.sum(K.round(K.clip(y_true * y_pred, 0, 1)))\n",
    "    \n",
    "    predicted_positives = K.sum(K.round(K.clip(y_pred, 0, 1)))\n",
    "    precision = true_positives / (predicted_positives + K.epsilon())\n",
    "    return precision\n",
    "\n",
    "def f1_score(y_true, y_pred):\n",
    "    precision1 = precision(y_true, y_pred)\n",
    "    recall1 = recall(y_true, y_pred)\n",
    "    return 2*((precision1*recall1)/(precision1+recall1+K.epsilon()))"
   ]
  },
  {
   "cell_type": "markdown",
   "metadata": {},
   "source": [
    "#### Define custom callback for prediction"
   ]
  },
  {
   "cell_type": "code",
   "execution_count": 21,
   "metadata": {},
   "outputs": [],
   "source": [
    "early_stopping = es.EarlyStoppingAtMinLoss()"
   ]
  },
  {
   "cell_type": "markdown",
   "metadata": {},
   "source": [
    "#### Callback class for time history"
   ]
  },
  {
   "cell_type": "code",
   "execution_count": 22,
   "metadata": {},
   "outputs": [],
   "source": [
    "time_callback = th.TimeHistory()"
   ]
  },
  {
   "cell_type": "markdown",
   "metadata": {},
   "source": [
    "#### Multi class true-positive"
   ]
  },
  {
   "cell_type": "code",
   "execution_count": 23,
   "metadata": {},
   "outputs": [],
   "source": [
    "multiTF = mc.MulticlassTruePositives()"
   ]
  },
  {
   "cell_type": "code",
   "execution_count": 24,
   "metadata": {},
   "outputs": [],
   "source": [
    "from __future__ import print_function\n",
    "from ipywidgets import interact, interactive, fixed, interact_manual, Layout, Button, Box, VBox, HBox, FloatText, Textarea, Dropdown, Label, IntSlider\n",
    "import ipywidgets as widgets\n",
    "from bqplot import *\n",
    "import bqplot.pyplot as plt"
   ]
  },
  {
   "cell_type": "code",
   "execution_count": 25,
   "metadata": {},
   "outputs": [
    {
     "data": {
      "application/vnd.jupyter.widget-view+json": {
       "model_id": "09246095f5f84ab6af07d3087a0067fc",
       "version_major": 2,
       "version_minor": 0
      },
      "text/plain": [
       "IntSlider(value=10, max=30, min=-10)"
      ]
     },
     "metadata": {},
     "output_type": "display_data"
    }
   ],
   "source": [
    "widgets.IntSlider(min=-10, max=30, step=1, value=10)"
   ]
  },
  {
   "cell_type": "code",
   "execution_count": 26,
   "metadata": {},
   "outputs": [
    {
     "data": {
      "application/vnd.jupyter.widget-view+json": {
       "model_id": "6b86c22ee8f640cd8000570e2c6cc53e",
       "version_major": 2,
       "version_minor": 0
      },
      "text/plain": [
       "Dropdown(description='Embedding', options=('Build Dataset', 'Collect Data'), value='Build Dataset')"
      ]
     },
     "metadata": {},
     "output_type": "display_data"
    }
   ],
   "source": [
    "\n",
    "dropdown = widgets.Dropdown(description='Embedding', options=['Build Dataset', 'Collect Data'])\n",
    "dropdown"
   ]
  },
  {
   "cell_type": "code",
   "execution_count": 27,
   "metadata": {},
   "outputs": [],
   "source": [
    "if dropdown.value==\"Collect Data\":\n",
    "    print('Chi')\n",
    "    import cv2\n",
    "    import glob\n",
    "    import matplotlib.pyplot as plt\n",
    "    import PIL\n",
    "\n",
    "    images = [cv2.imread(file) for file in glob.glob('output/*.PNG')]\n",
    "    for im in images: \n",
    "        fig = plt.figure(figsize=(8,7))\n",
    "        plt.imshow(im)\n",
    "        #plt.show()\n",
    "    "
   ]
  },
  {
   "cell_type": "code",
   "execution_count": 28,
   "metadata": {},
   "outputs": [
    {
     "data": {
      "text/plain": [
       "Link(source=(Play(value=50, description='Press play', interval=500), 'value'), target=(IntSlider(value=0), 'va…"
      ]
     },
     "metadata": {},
     "output_type": "display_data"
    },
    {
     "data": {
      "application/vnd.jupyter.widget-view+json": {
       "model_id": "e41fb4dd0c864d27b74950cfddabb796",
       "version_major": 2,
       "version_minor": 0
      },
      "text/plain": [
       "HBox(children=(Play(value=50, description='Press play', interval=500), IntSlider(value=0)))"
      ]
     },
     "metadata": {},
     "output_type": "display_data"
    }
   ],
   "source": [
    "play = widgets.Play(\n",
    "    value=50,\n",
    "    min=0,\n",
    "    max=100,\n",
    "    step=1,\n",
    "    interval=500,\n",
    "    description=\"Press play\",\n",
    "    disabled=False\n",
    ")\n",
    "slider = widgets.IntSlider()\n",
    "widgets.jslink((play, 'value'), (slider, 'value'))\n",
    "widgets.HBox([play, slider])"
   ]
  },
  {
   "cell_type": "code",
   "execution_count": 29,
   "metadata": {},
   "outputs": [],
   "source": [
    "def renderWidget(width=None, height=None):\n",
    "    \"\"\" Render a pygal chart into a Jupyter Notebook \"\"\"\n",
    "    from ipywidgets import HTML\n",
    "\n",
    "   \n",
    "    html = '<!DOCTYPE html><html><head><style>body {background-image: url(\"img_data/black_rot/black_rot1.jpg\");}</style></head><body></body></html>'\n",
    "\n",
    "   \n",
    "\n",
    "    return HTML(html) "
   ]
  },
  {
   "cell_type": "code",
   "execution_count": 30,
   "metadata": {},
   "outputs": [],
   "source": [
    "di=renderWidget(300, 400)"
   ]
  },
  {
   "cell_type": "code",
   "execution_count": 31,
   "metadata": {},
   "outputs": [
    {
     "data": {
      "application/vnd.jupyter.widget-view+json": {
       "model_id": "38d426680bac4f9cb76e7edaa84732ce",
       "version_major": 2,
       "version_minor": 0
      },
      "text/plain": [
       "HTML(value='<!DOCTYPE html><html><head><style>body {background-image: url(\"img_data/black_rot/black_rot1.jpg\")…"
      ]
     },
     "metadata": {},
     "output_type": "display_data"
    }
   ],
   "source": [
    "di"
   ]
  },
  {
   "cell_type": "code",
   "execution_count": 32,
   "metadata": {},
   "outputs": [
    {
     "data": {
      "application/vnd.jupyter.widget-view+json": {
       "model_id": "76bafaa473364ffca3b2b5390323c55b",
       "version_major": 2,
       "version_minor": 0
      },
      "text/plain": [
       "ToggleButtons(description='Color:', options=('blue', 'red', 'green'), value='blue')"
      ]
     },
     "metadata": {},
     "output_type": "display_data"
    }
   ],
   "source": [
    "color_buttons = widgets.ToggleButtons(\n",
    "    options=['blue', 'red', 'green'],\n",
    "    description='Color:',\n",
    ")\n",
    "color_buttons"
   ]
  },
  {
   "cell_type": "code",
   "execution_count": 33,
   "metadata": {},
   "outputs": [
    {
     "data": {
      "application/vnd.jupyter.widget-view+json": {
       "model_id": "aa8817d1f050465792f5cdc32dbb6973",
       "version_major": 2,
       "version_minor": 0
      },
      "text/plain": [
       "Text(value='Hello World', description='Title:')"
      ]
     },
     "metadata": {},
     "output_type": "display_data"
    }
   ],
   "source": [
    "title_textbox = widgets.Text(\n",
    "    value='Hello World',\n",
    "    description='Title:',\n",
    ")\n",
    "title_textbox"
   ]
  },
  {
   "cell_type": "code",
   "execution_count": 34,
   "metadata": {},
   "outputs": [
    {
     "data": {
      "application/vnd.jupyter.widget-view+json": {
       "model_id": "15773e0463ee4e1e9891865a7cca4d22",
       "version_major": 2,
       "version_minor": 0
      },
      "text/plain": [
       "ColorPicker(value='#efefef', concise=True, description='Background color:')"
      ]
     },
     "metadata": {},
     "output_type": "display_data"
    }
   ],
   "source": [
    "color_picker = widgets.ColorPicker(\n",
    "    concise=True,\n",
    "    description='Background color:',\n",
    "    value='#efefef',\n",
    ")\n",
    "color_picker"
   ]
  },
  {
   "cell_type": "code",
   "execution_count": 35,
   "metadata": {},
   "outputs": [
    {
     "data": {
      "application/vnd.jupyter.widget-view+json": {
       "model_id": "c82d93af6cf649198e6bb291e96d1e14",
       "version_major": 2,
       "version_minor": 0
      },
      "text/plain": [
       "ToggleButton(value=False, description='Grid', icon='check')"
      ]
     },
     "metadata": {},
     "output_type": "display_data"
    }
   ],
   "source": [
    "grid_button = widgets.ToggleButton(\n",
    "    value=False,\n",
    "    description='Grid',\n",
    "    icon='check'\n",
    ")\n",
    "grid_button"
   ]
  },
  {
   "cell_type": "code",
   "execution_count": 36,
   "metadata": {},
   "outputs": [
    {
     "data": {
      "application/vnd.jupyter.widget-view+json": {
       "model_id": "939c635fb7784c38b0ebd90aaedc6089",
       "version_major": 2,
       "version_minor": 0
      },
      "text/plain": [
       "Button(description='Plot', style=ButtonStyle())"
      ]
     },
     "metadata": {},
     "output_type": "display_data"
    }
   ],
   "source": [
    "button = widgets.Button(\n",
    "    description='Plot',\n",
    ")\n",
    "button"
   ]
  },
  {
   "cell_type": "code",
   "execution_count": 37,
   "metadata": {},
   "outputs": [],
   "source": [
    "#===========================================Buttons for tab Data Management===================================================#\n",
    "btn_folder = widgets.Button(\n",
    "    description='Build Dataset',\n",
    "    disabled=False,\n",
    "    button_style='info', # 'success', 'info', 'warning', 'danger' or ''\n",
    "    tooltip='Create data folders for all classes.'\n",
    "    #icon='check' # (FontAwesome names without the `fa-` prefix)\n",
    ")\n",
    "btn_collection = widgets.Button(\n",
    "    description='Collect Data',\n",
    "    disabled=False,\n",
    "    button_style='info', # 'success', 'info', 'warning', 'danger' or ''\n",
    "    tooltip='Count total images in each class.',\n",
    "    color = 'green'\n",
    "    #icon='check' # (FontAwesome names without the `fa-` prefix)\n",
    ")\n",
    "\n",
    "btn_rename_img = widgets.Button(\n",
    "    description='Rename Images',\n",
    "    disabled=False,\n",
    "    button_style='info', # 'success', 'info', 'warning', 'danger' or ''\n",
    "    tooltip='Rename all images follow a naming convention.'\n",
    "    #icon='check' # (FontAwesome names without the `fa-` prefix)\n",
    ")\n",
    "btn_split_data = widgets.Button(\n",
    "    description='Split Data',\n",
    "    disabled=False,\n",
    "    button_style='info', # 'success', 'info', 'warning', 'danger' or ''\n",
    "    tooltip='Split data into train, test, and validation folders.',\n",
    "    color = 'green'\n",
    "    #icon='check' # (FontAwesome names without the `fa-` prefix)\n",
    ")\n",
    "\n",
    "#=============================================Buttons for tab Data Analysis===================================================#\n",
    "\n",
    "btn_observation = widgets.Button(\n",
    "    description='Data Observation',\n",
    "    disabled=False,\n",
    "    button_style='warning', # 'success', 'info', 'warning', 'danger' or ''\n",
    "    tooltip='View sample data in all classes.',\n",
    "    color = 'blue'\n",
    "    #icon='check' # (FontAwesome names without the `fa-` prefix)\n",
    ")\n",
    "btn_distribution = widgets.Button(\n",
    "    description='Data Distribution',\n",
    "    disabled=False,\n",
    "    button_style='warning', # 'success', 'info', 'warning', 'danger' or ''\n",
    "    tooltip='Display data distribution in each class.',\n",
    "    color = 'blue'\n",
    "    #icon='check' # (FontAwesome names without the `fa-` prefix)\n",
    ")\n",
    "\n",
    "btn_visualization = widgets.Button(\n",
    "    description='Data Visualization',\n",
    "    disabled=False,\n",
    "    button_style='warning', # 'success', 'info', 'warning', 'danger' or ''\n",
    "    tooltip='Visualize data in all classes.',\n",
    "    color = 'blue'\n",
    "    #icon='check' # (FontAwesome names without the `fa-` prefix)\n",
    ")\n",
    "\n",
    "#=============================================Buttons for tab Quality Tracking===============================================#\n",
    "\n",
    "btn_acc_loss = widgets.Button(\n",
    "    description='View Acc/Loss',\n",
    "    disabled=False,\n",
    "    button_style='success', # 'success', 'info', 'warning', 'danger' or ''\n",
    "    tooltip='View accuracy and loss of training and validation.'\n",
    "    #icon='check' # (FontAwesome names without the `fa-` prefix)\n",
    ")\n",
    "btn_confusion_matrix = widgets.Button(\n",
    "    description='Confusion Matrix',\n",
    "    disabled=False,\n",
    "    button_style='success', # 'success', 'info', 'warning', 'danger' or ''\n",
    "    tooltip='View confusion matrix.'\n",
    "    #icon='check' # (FontAwesome names without the `fa-` prefix)\n",
    ")\n",
    "\n",
    "btn_epoch_cf = widgets.Button(\n",
    "    description='Confusion matrix/epoch',\n",
    "    disabled=False,\n",
    "    button_style='success', # 'success', 'info', 'warning', 'danger' or ''\n",
    "    tooltip='Display confusion matrix for each epoch.',\n",
    "    color = 'green'\n",
    "    #icon='check' # (FontAwesome names without the `fa-` prefix)\n",
    ")\n",
    "\n",
    "btn_roc = widgets.Button(\n",
    "    description='Show ROC',\n",
    "    disabled=False,\n",
    "    button_style='success', # 'success', 'info', 'warning', 'danger' or ''\n",
    "    tooltip='Display ROC for each epoch.',\n",
    "    color = 'green'\n",
    "    #icon='check' # (FontAwesome names without the `fa-` prefix)\n",
    ")\n",
    "\n",
    "btn_mis_images = widgets.Button(\n",
    "    description='Misclassified Images',\n",
    "    disabled=False,\n",
    "    button_style='success', # 'success', 'info', 'warning', 'danger' or ''\n",
    "    tooltip='Get all misclassified images.'\n",
    "    #icon='check' # (FontAwesome names without the `fa-` prefix)\n",
    ")\n",
    "btn_hidden_layers = widgets.Button(\n",
    "    description='Hidden Layers',\n",
    "    disabled=False,\n",
    "    button_style='success', # 'success', 'info', 'warning', 'danger' or ''\n",
    "    tooltip='View all hidden layers.',\n",
    "    color = 'green'\n",
    "    #icon='check' # (FontAwesome names without the `fa-` prefix)\n",
    ")\n",
    "\n",
    "btn_layer_info = widgets.Button(\n",
    "    description='Layers Information',\n",
    "    disabled=False,\n",
    "    button_style='success', # 'success', 'info', 'warning', 'danger' or ''\n",
    "    tooltip='View layer information.'\n",
    "    #icon='check' # (FontAwesome names without the `fa-` prefix)\n",
    ")\n",
    "btn_activations = widgets.Button(\n",
    "    description='Display Activations',\n",
    "    disabled=False,\n",
    "    button_style='success', # 'success', 'info', 'warning', 'danger' or ''\n",
    "    tooltip='Display activations of each image.',\n",
    "    color = 'green'\n",
    "    #icon='check' # (FontAwesome names without the `fa-` prefix)\n",
    ")\n",
    "\n",
    "btn_heatmaps = widgets.Button(\n",
    "    description='Display Heatmaps',\n",
    "    disabled=False,\n",
    "    button_style='success', # 'success', 'info', 'warning', 'danger' or ''\n",
    "    tooltip='Display heatmaps of each image.'\n",
    "    #icon='check' # (FontAwesome names without the `fa-` prefix)\n",
    ")\n",
    "btn_weights = widgets.Button(\n",
    "    description='Weights/Bias',\n",
    "    disabled=False,\n",
    "    button_style='success', # 'success', 'info', 'warning', 'danger' or ''\n",
    "    tooltip='Display weights and bias on all layers.',\n",
    "    color = 'green'\n",
    "    #icon='check' # (FontAwesome names without the `fa-` prefix)\n",
    ")\n",
    "\n",
    "btn_inbound = widgets.Button(\n",
    "    description='Inbound Nodes',\n",
    "    disabled=False,\n",
    "    button_style='success', # 'success', 'info', 'warning', 'danger' or ''\n",
    "    tooltip='Display all inbound nodes.'\n",
    "    #icon='check' # (FontAwesome names without the `fa-` prefix)\n",
    ")\n",
    "btn_outbound = widgets.Button(\n",
    "    description='Outbound Nodes',\n",
    "    disabled=False,\n",
    "    button_style='success', # 'success', 'info', 'warning', 'danger' or ''\n",
    "    tooltip='Display all outbound nodes.',\n",
    "    color = 'green'\n",
    "    #icon='check' # (FontAwesome names without the `fa-` prefix)\n",
    ")\n",
    "\n",
    "#=============================================Images for tab Quality Tracking========================\n",
    "accFile = open(\"images/acc-loss.GIF\", \"rb\")\n",
    "acc = accFile.read()\n",
    "acc1 = widgets.Image(\n",
    "    value=acc,\n",
    "    format='png',\n",
    "    width=256,\n",
    "    height=256,\n",
    ")\n",
    "\n",
    "confFile = open(\"images/confusion-matrix.GIF\", \"rb\")\n",
    "conf = confFile.read()\n",
    "conf1 = widgets.Image(\n",
    "    value=conf,\n",
    "    format='png',\n",
    "    width=256,\n",
    "    height=256,\n",
    ")\n",
    "\n",
    "confBFile = open(\"images/confusion-matrix1.GIF\", \"rb\")\n",
    "confB = confBFile.read()\n",
    "confB1 = widgets.Image(\n",
    "    value=confB,\n",
    "    format='png',\n",
    "    width=256,\n",
    "    height=256,\n",
    ")\n",
    "\n",
    "rocFile = open(\"images/roc.GIF\", \"rb\")\n",
    "roc = rocFile.read()\n",
    "roc1 = widgets.Image(\n",
    "    value=roc,\n",
    "    format='png',\n",
    "    width=256,\n",
    "    height=256,\n",
    ")\n",
    "\n",
    "misFile = open(\"images/missed1.JPG\", \"rb\")\n",
    "missed = misFile.read()\n",
    "missed1 = widgets.Image(\n",
    "    value=missed,\n",
    "    format='png',\n",
    "    width=120,\n",
    "    height=120,\n",
    ")\n",
    "\n",
    "hlayerFile = open(\"images/hidden.GIF\", \"rb\")\n",
    "hlayer = hlayerFile.read()\n",
    "hlayer1 = widgets.Image(\n",
    "    value=hlayer,\n",
    "    format='png',\n",
    "    width=256,\n",
    "    height=256,\n",
    ")\n",
    "\n",
    "layerFile = open(\"images/layer.GIF\", \"rb\")\n",
    "layer = layerFile.read()\n",
    "layer1 = widgets.Image(\n",
    "    value=layer,\n",
    "    format='png',\n",
    "    width=256,\n",
    "    height=256,\n",
    ")\n",
    "\n",
    "actFile = open(\"images/activation.GIF\", \"rb\")\n",
    "act = actFile.read()\n",
    "act1 = widgets.Image(\n",
    "    value=act,\n",
    "    format='png',\n",
    "    width=256,\n",
    "    height=256,\n",
    ")\n",
    "\n",
    "heatFile = open(\"images/heatmap.GIF\", \"rb\")\n",
    "heatmaps = heatFile.read()\n",
    "heatmaps1 = widgets.Image(\n",
    "    value=heatmaps,\n",
    "    format='png',\n",
    "    width=256,\n",
    "    height=256,\n",
    ")\n",
    "\n",
    "weightFile = open(\"images/weights.GIF\", \"rb\")\n",
    "weights = weightFile.read()\n",
    "weights1 = widgets.Image(\n",
    "    value=weights,\n",
    "    format='png',\n",
    "    width=256,\n",
    "    height=256,\n",
    ")\n",
    "\n",
    "inFile = open(\"images/innode.GIF\", \"rb\")\n",
    "inI = inFile.read()\n",
    "in1 = widgets.Image(\n",
    "    value=inI,\n",
    "    format='png',\n",
    "    width=256,\n",
    "    height=256,\n",
    ")\n",
    "\n",
    "outFile = open(\"images/outnode.GIF\", \"rb\")\n",
    "out = outFile.read()\n",
    "out1 = widgets.Image(\n",
    "    value=out,\n",
    "    format='png',\n",
    "    width=256,\n",
    "    height=256,\n",
    ")\n",
    "\n",
    "#=============================================Text labels for tab Quality Tracking========================\n",
    "accLabel = widgets.HTML(\"<width='200px'><h8 class='text-left'><font color='green'>View accuracy and loss of all epoches for trainingand validation datasets.</font></h8></width>\")\n",
    "confLabel = widgets.HTML(\"<width='200px'><h8 class='text-left'><font color='green'>Display confusion matrix and classification report of the training model on all classes.</font></h8></width>\")\n",
    "confELabel = widgets.HTML(\"<width='200px'><h8 class='text-left'><font color='green'>This function shows users how the model is improved after each epoch.</font></h8></width>\")\n",
    "rocLabel = widgets.HTML(\"<width='200px'><h8 class='text-left'><font color='green'>Show receiver operating characteristic (ROC) curve on each epoch.</font></h8></width>\")\n",
    "misLabel = widgets.HTML(\"<width='200px'><h8 class='text-left'><font color='green'>Collect all misclassified images & display with the name of images.</font></h8></width>\")\n",
    "hiddenLabel = widgets.HTML(\"<width='200px'><h8 class='text-left'><font color='green'>Display all hidden layers in the model.</font></h8></width>\")\n",
    "layerLabel = widgets.HTML(\"<width='200px'><h8 class='text-left'><font color='green'>Extract detailed information of each layer of the training model.</font></h8></width>\")\n",
    "actLabel = widgets.HTML(\"<width='200px'><h8 class='text-left'><font color='green'>Present activations of an selected image on each training model's layer.</font></h8></width>\")\n",
    "heatLabel = widgets.HTML(\"<width='200px'><h8 class='text-left'><font color='green'>Show heatmaps of an selected image on each training model's layer.</font></h8></width>\")\n",
    "weightLabel = widgets.HTML(\"<width='200px'><h8 class='text-left'><font color='green'>Display wieghts and bias on each training model's layer.</font></h8></width>\")\n",
    "inLabel = widgets.HTML(\"<width='200px'><h8 class='text-left'><font color='green'>Extract all inbound nodes on each layer.</font></h8></width>\")\n",
    "outLabel = widgets.HTML(\"<width='200px'><h8 class='text-left'><font color='green'>Extract all outbound nodes on each layer.</font></h8></width>\")\n",
    "\n",
    "#======================================Buttons for tab AI Model Tracking===========================================================#\n",
    "\n",
    "#========================================Buttons for tab About===========================================================#\n",
    "teamFile = open(\"images/team.PNG\", \"rb\")\n",
    "team = teamFile.read()\n",
    "team1 = widgets.Image(\n",
    "    value=team,\n",
    "    format='png',\n",
    "    width=450,\n",
    "    height=368\n",
    ")"
   ]
  },
  {
   "cell_type": "code",
   "execution_count": 38,
   "metadata": {},
   "outputs": [],
   "source": [
    "from ipywidgets import TwoByTwoLayout\n",
    "\n",
    "tab1 = TwoByTwoLayout(top_left=btn_folder,\n",
    "                     bottom_left=btn_collection,\n",
    "                     top_right = btn_rename_img,\n",
    "                     bottom_right=btn_split_data,\n",
    "                     align_items=\"center\",\n",
    "                     height=\"200px\")\n",
    "\n",
    "tab2 = TwoByTwoLayout(top_left=btn_observation,\n",
    "                     bottom_left=btn_distribution,\n",
    "                     top_right = btn_visualization,\n",
    "                     align_items=\"center\",\n",
    "                     height=\"200px\")\n",
    "\n",
    "tab3 = VBox(children=[HBox(children=[VBox(children=[\n",
    "                                     btn_acc_loss, accLabel,\n",
    "                                    acc1\n",
    "                                    ]),\n",
    "                                     VBox(children=[\n",
    "                                     btn_confusion_matrix, confLabel,\n",
    "                                    conf1\n",
    "                                    ]),\n",
    "                                     VBox(children=[\n",
    "                                     btn_epoch_cf,\n",
    "                                    confB1, confELabel\n",
    "                                    ]),\n",
    "                                     VBox(children=[\n",
    "                                     btn_roc,rocLabel,\n",
    "                                    roc1\n",
    "                                    ]),\n",
    "                                     VBox(children=[\n",
    "                                     btn_mis_images, misLabel,\n",
    "                                    missed1\n",
    "                                    ]),\n",
    "                                     VBox(children=[\n",
    "                                     btn_hidden_layers, hiddenLabel,\n",
    "                                    hlayer1\n",
    "                                    ])\n",
    "                    ]),\n",
    "                      HBox(children=[VBox(children=[\n",
    "                                     btn_layer_info, layerLabel,\n",
    "                                    layer1\n",
    "                                    ]),\n",
    "                                     VBox(children=[\n",
    "                                     btn_activations, actLabel,\n",
    "                                    act1\n",
    "                                    ]),\n",
    "                                     VBox(children=[\n",
    "                                     btn_heatmaps, heatLabel,\n",
    "                                    heatmaps1\n",
    "                                    ]),\n",
    "                                     VBox(children=[\n",
    "                                     btn_weights, weightLabel,\n",
    "                                    weights1\n",
    "                                    ]),\n",
    "                                     VBox(children=[\n",
    "                                     btn_inbound, inLabel,\n",
    "                                    in1\n",
    "                                    ]),\n",
    "                                     VBox(children=[\n",
    "                                     btn_outbound, outLabel,\n",
    "                                    out1\n",
    "                                    ])\n",
    "                      ])\n",
    "                ])\n",
    "\n",
    "tab4 = VBox(children=[color_buttons,\n",
    "                      HBox(children=[title_textbox,\n",
    "                                     color_picker,\n",
    "                                     grid_button]),\n",
    "                                     ])\n",
    "\n",
    "tab5 = HBox(children=[team1,\n",
    "                      HBox(children=[title_textbox,\n",
    "                                     color_picker,\n",
    "                                     grid_button]),\n",
    "                                     ])"
   ]
  },
  {
   "cell_type": "code",
   "execution_count": 39,
   "metadata": {},
   "outputs": [
    {
     "data": {
      "application/vnd.jupyter.widget-view+json": {
       "model_id": "f36d50c9d0304ef0a52938415ae7cc84",
       "version_major": 2,
       "version_minor": 0
      },
      "text/plain": [
       "VBox(children=(HTML(value=\"<h3 class = 'text-center', style = 'color:purple'> AI Data Management and Model Tra…"
      ]
     },
     "metadata": {},
     "output_type": "display_data"
    },
    {
     "data": {
      "application/vnd.jupyter.widget-view+json": {
       "model_id": "1128a61415e6449f9b20429c600eb33f",
       "version_major": 2,
       "version_minor": 0
      },
      "text/plain": [
       "Output()"
      ]
     },
     "metadata": {},
     "output_type": "display_data"
    }
   ],
   "source": [
    "import random\n",
    "from IPython.display import clear_output\n",
    "from ipywidgets import Output\n",
    "from IPython.display import display\n",
    "\n",
    "label = widgets.HTML(\"<h3 class = 'text-center', style = 'color:purple'> AI Data Management and Model Tracking\")\n",
    "\n",
    "tab = widgets.Tab(children=[tab1, tab2, tab3, tab4, tab5])\n",
    "tab.set_title(0, 'Data Management')\n",
    "tab.set_title(1, 'Data Analysis')\n",
    "tab.set_title(2, 'Quality Tracking')\n",
    "tab.set_title(3, 'AI Model Tracking')\n",
    "tab.set_title(4, 'About')\n",
    "VBox(children=[label,tab, button])\n",
    "\n",
    "output = widgets.Output()\n",
    "out = Output()\n",
    "display(out)\n",
    "\n",
    "#=============================================Button events for tab Data Management===========================================#\n",
    "def on_build_dataset_clicked(b):\n",
    "    with out:\n",
    "        clear_output(True)\n",
    "        ds.build_dataset()   \n",
    "        \n",
    "def on_collect_data_clicked(b):\n",
    "    with out:\n",
    "        clear_output(True)\n",
    "        ds.collect_images()\n",
    "        \n",
    "                \n",
    "def on_rename_img_clicked(b):\n",
    "    with out:\n",
    "        clear_output(True)\n",
    "        ds.rename_img()   \n",
    "        \n",
    "def on_split_data_clicked(b):\n",
    "    with out:\n",
    "        clear_output(True)\n",
    "        for class_name in ['phylloxera', 'mealybug', 'black_measles', 'black_rot', 'leaf_blight', 'healthy']:\n",
    "            dn.train_test_split_data(ds.data, class_name)\n",
    "\n",
    "#=============================================Button events for tab Data Analysis=============================================#\n",
    "            \n",
    "def on_observe_data_clicked(a):\n",
    "    with out:\n",
    "        clear_output(True)\n",
    "        do.show_sample(ds.data)   \n",
    "        \n",
    "def on_data_distribution_clicked(d):\n",
    "    with out:\n",
    "        clear_output(True)\n",
    "        ds.data_dist()\n",
    "        \n",
    "                \n",
    "def on_data_visualization_clicked(e):\n",
    "    with out:\n",
    "        clear_output(True)\n",
    "        dv.plot_scatter(nomalized_data_tsne, labels);  \n",
    "        \n",
    "#=============================================Button events for tab Quality Tracking==========================================#\n",
    "            \n",
    "def on_accloss_clicked(a):\n",
    "    with out:\n",
    "        clear_output(True)\n",
    "       \n",
    "        import cv2\n",
    "        import glob\n",
    "        import matplotlib.pyplot as plt\n",
    "        import PIL\n",
    "\n",
    "        images = [cv2.imread(file) for file in glob.glob('output/*.PNG')]\n",
    "        for im in images: \n",
    "            plt.figure(figsize=(8,7))\n",
    "            plt.imshow(im)\n",
    "            plt.show()\n",
    "        \n",
    "def on_con_mat_clicked(d):\n",
    "    with out:\n",
    "        clear_output(True)\n",
    "        from libraries import create_diagram as cd\n",
    "        dependencies = {\n",
    "                       'precision': precision,\n",
    "                       'recall': recall, \n",
    "                       'f1_score': f1_score}\n",
    "\n",
    "        model = load_model('diseasepest-scratch.h5', custom_objects=dependencies)\n",
    "\n",
    "        # Display confusion matrix and classification report\n",
    "        cd.collect_metrics(model, generator=valid_test_gen, steps=total_valid)     \n",
    "        \n",
    "def on_conf_clicked(d):\n",
    "    with out:\n",
    "        clear_output(True)\n",
    "        import cv2\n",
    "        import glob\n",
    "        import matplotlib.pyplot as plt\n",
    "        import PIL\n",
    "\n",
    "        images = [cv2.imread(file) for file in glob.glob('performance_vizualizations/confusion_matrix*.PNG')]\n",
    "        for im in images: \n",
    "            plt.figure(figsize=(20,19))\n",
    "            plt.imshow(im)\n",
    "            plt.show() \n",
    "            \n",
    "def on_roc_clicked(d):\n",
    "    with out:\n",
    "        clear_output(True)\n",
    "        import cv2\n",
    "        import glob\n",
    "        import matplotlib.pyplot as plt\n",
    "        import PIL\n",
    "\n",
    "        images = [cv2.imread(file) for file in glob.glob('performance_vizualizations/roc_curve*.PNG')]\n",
    "        for im in images: \n",
    "            plt.figure(figsize=(20,19))\n",
    "            plt.imshow(im)\n",
    "            plt.show() \n",
    "                \n",
    "def on_mis_images_clicked(e):\n",
    "    with out:\n",
    "        clear_output(True)\n",
    "        from model_impl import get_misclassified_img as mi, display_mis_img as dmi\n",
    "        #importlib.reload(mi)\n",
    "        #importlib.reload(dmi)\n",
    "        dependencies = {\n",
    "                       'precision': precision,\n",
    "                       'recall': recall, \n",
    "                       'f1_score': f1_score}\n",
    "\n",
    "        model = load_model('diseasepest-scratch.h5', custom_objects=dependencies)\n",
    "        paths = mi.get_misclassified_images(model, valid_test_gen, total_valid)\n",
    "\n",
    "        paths\n",
    "        dmi.display_misclassified_images(paths, rows = 19, columns = 4)\n",
    "        \n",
    "def on_hidden_layers_clicked(a):\n",
    "    with out:\n",
    "        clear_output(True)\n",
    "        from model_impl import display_layer_info as li\n",
    "        \n",
    "        dependencies = {\n",
    "                       'precision': precision,\n",
    "                       'recall': recall, \n",
    "                       'f1_score': f1_score}\n",
    "\n",
    "        model = load_model('diseasepest-scratch.h5', custom_objects=dependencies)\n",
    "        li.print_hidden_layers(model)\n",
    "                   \n",
    "        \n",
    "def on_layer_info_clicked(d):\n",
    "    with out:\n",
    "        clear_output(True)\n",
    "        from model_impl import display_layer_info as li\n",
    "        \n",
    "        dependencies = {\n",
    "                       'precision': precision,\n",
    "                       'recall': recall, \n",
    "                       'f1_score': f1_score}\n",
    "\n",
    "        model = load_model('diseasepest-scratch.h5', custom_objects=dependencies)\n",
    "        li.print_layer_info(model)\n",
    "        \n",
    "def on_activations_clicked(e):\n",
    "    with out:\n",
    "        clear_output(True)\n",
    "        from model_impl import display_activations as da\n",
    "\n",
    "        dependencies = {\n",
    "                       'precision': precision,\n",
    "                       'recall': recall, \n",
    "                       'f1_score': f1_score}\n",
    "        \n",
    "        from libraries import dialog\n",
    "        # get selected file's path\n",
    "        path = dialog.gui_fname()\n",
    "        path = path.decode(\"utf-8\")\n",
    "\n",
    "        # load the saved model\n",
    "        model = load_model('diseasepest-scratch.h5', custom_objects=dependencies)\n",
    "        \n",
    "        # display activations\n",
    "        da.display_activations1(path= path, input_mod=model)\n",
    "        \n",
    "def on_heatmaps_clicked(a):\n",
    "    with out:\n",
    "        clear_output(True)\n",
    "        from model_impl import display_activations as da\n",
    "        dependencies = {\n",
    "                       'precision': precision,\n",
    "                       'recall': recall, \n",
    "                       'f1_score': f1_score}\n",
    "        \n",
    "        from libraries import dialog\n",
    "        # get selected file's path\n",
    "        path = dialog.gui_fname()\n",
    "        path = path.decode(\"utf-8\")\n",
    "\n",
    "        # load the saved model\n",
    "        model = load_model('diseasepest-scratch.h5', custom_objects=dependencies)\n",
    "        \n",
    "        # display heatmaps\n",
    "        da.display_heatmAps(path = path, input_mod = model)\n",
    "\n",
    "def on_weights_clicked(d):\n",
    "    with out:\n",
    "        clear_output(True)\n",
    "        from model_impl import weights_bias as wb\n",
    "        dependencies = {\n",
    "                       'precision': precision,\n",
    "                       'recall': recall, \n",
    "                       'f1_score': f1_score}\n",
    "\n",
    "        model = load_model('diseasepest-scratch.h5', custom_objects=dependencies)\n",
    "        wb.extract_weights_bias(model)\n",
    "   \n",
    "                \n",
    "def on_inbound_clicked(e):\n",
    "    with out:\n",
    "        clear_output(True)\n",
    "        from model_impl import inbound_outbound_nodes as ion\n",
    "        dependencies = {\n",
    "                       'precision': precision,\n",
    "                       'recall': recall, \n",
    "                       'f1_score': f1_score}\n",
    "\n",
    "        model = load_model('diseasepest-scratch.h5', custom_objects=dependencies)\n",
    "        ion.get_inbound_nodes(model)\n",
    "\n",
    "        \n",
    "def on_outbound_clicked(e):\n",
    "    with out:\n",
    "        clear_output(True)\n",
    "        from model_impl import inbound_outbound_nodes as ion\n",
    "        dependencies = {\n",
    "                       'precision': precision,\n",
    "                       'recall': recall, \n",
    "                       'f1_score': f1_score}\n",
    "\n",
    "        model = load_model('diseasepest-scratch.h5', custom_objects=dependencies)\n",
    "        ion.get_outbound_nodes(model)\n",
    "\n",
    "\n",
    "#=============================================Button implementation for tab Data Management===================================#        \n",
    "btn_folder.on_click(on_build_dataset_clicked)\n",
    "btn_collection.on_click(on_collect_data_clicked)\n",
    "btn_rename_img.on_click(on_rename_img_clicked)\n",
    "btn_split_data.on_click(on_split_data_clicked)\n",
    "\n",
    "#=============================================Button implementation for tab Data Analysis=====================================#\n",
    "btn_observation.on_click(on_observe_data_clicked)\n",
    "btn_distribution.on_click(on_data_distribution_clicked)\n",
    "btn_visualization.on_click(on_data_visualization_clicked)\n",
    "\n",
    "#=============================================Button implementation for tab Quality Tracking=================================#\n",
    "btn_acc_loss.on_click(on_accloss_clicked)\n",
    "btn_confusion_matrix.on_click(on_con_mat_clicked)\n",
    "btn_epoch_cf.on_click(on_conf_clicked)\n",
    "btn_roc.on_click(on_roc_clicked)\n",
    "btn_mis_images.on_click(on_mis_images_clicked)\n",
    "btn_hidden_layers.on_click(on_hidden_layers_clicked)\n",
    "btn_layer_info.on_click(on_layer_info_clicked)\n",
    "btn_activations.on_click(on_activations_clicked)\n",
    "btn_heatmaps.on_click(on_heatmaps_clicked)\n",
    "btn_weights.on_click(on_weights_clicked)\n",
    "btn_inbound.on_click(on_inbound_clicked)\n",
    "btn_outbound.on_click(on_outbound_clicked)"
   ]
  },
  {
   "cell_type": "code",
   "execution_count": null,
   "metadata": {},
   "outputs": [],
   "source": []
  },
  {
   "cell_type": "code",
   "execution_count": null,
   "metadata": {},
   "outputs": [],
   "source": []
  }
 ],
 "metadata": {
  "accelerator": "GPU",
  "colab": {
   "collapsed_sections": [
    "li_XaIoyzuUp",
    "9hgpqg_740zq",
    "UJcoVAka31UT",
    "fSEbzr0JAKbs",
    "bfplkVqyqZss",
    "P8eJ3gz9heIz",
    "eQ19PPk94dP7"
   ],
   "name": "grape-disease-classification.ipynb",
   "provenance": [],
   "version": "0.3.2"
  },
  "kernelspec": {
   "display_name": "Python 3",
   "language": "python",
   "name": "python3"
  },
  "language_info": {
   "codemirror_mode": {
    "name": "ipython",
    "version": 3
   },
   "file_extension": ".py",
   "mimetype": "text/x-python",
   "name": "python",
   "nbconvert_exporter": "python",
   "pygments_lexer": "ipython3",
   "version": "3.7.3"
  }
 },
 "nbformat": 4,
 "nbformat_minor": 1
}
