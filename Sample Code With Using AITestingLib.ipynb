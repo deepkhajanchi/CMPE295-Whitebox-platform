{
 "cells": [
  {
   "cell_type": "code",
   "execution_count": 2,
   "metadata": {},
   "outputs": [],
   "source": [
    "#Sample Code with Using AITestingLib\n",
    "\n",
    "#AITesting lib is from AITesting.py\n",
    "#First build Jun,06,2020 - Jake\n",
    "#Jun,16,2020 - Jake : For showing weights of the model\n",
    "#Jun,24,2020 - Jake : Show Accuracy in each batchs.\n",
    "#                     Show layers' name & config in each layers. \n",
    "#Sep,19,2020 - Jake : insert_model_bias_weight Function.\n",
    "\n"
   ]
  },
  {
   "cell_type": "code",
   "execution_count": 162,
   "metadata": {
    "scrolled": false
   },
   "outputs": [
    {
     "name": "stdout",
     "output_type": "stream",
     "text": [
      "Model-Based AI Testing and Automation library imported \n",
      "Train on 60000 samples\n",
      "60000/60000 [==============================] - 13s 220us/sample - loss: 0.4739 - accuracy: 0.8314\n",
      "Model: \"sequential_99\"\n",
      "_________________________________________________________________\n",
      "Layer (type)                 Output Shape              Param #   \n",
      "=================================================================\n",
      "flatten_105 (Flatten)        multiple                  0         \n",
      "_________________________________________________________________\n",
      "dense_198 (Dense)            multiple                  401920    \n",
      "_________________________________________________________________\n",
      "dense_199 (Dense)            multiple                  5130      \n",
      "=================================================================\n",
      "Total params: 407,050\n",
      "Trainable params: 407,050\n",
      "Non-trainable params: 0\n",
      "_________________________________________________________________\n",
      "name flatten_105\n",
      "Flatten Skip - flatten Layer does not have weights and biases.\n",
      "name dense_198\n",
      "name dense_199\n",
      "Database connection closed.\n"
     ]
    },
    {
     "data": {
      "text/plain": [
       "'finished'"
      ]
     },
     "execution_count": 162,
     "metadata": {},
     "output_type": "execute_result"
    }
   ],
   "source": [
    "import tensorflow as tf\n",
    "import io\n",
    "\n",
    "import AITesting\n",
    "import imp\n",
    "imp.reload(AITesting)\n",
    "\n",
    "import numpy as np\n",
    "import tensorflow as tf\n",
    "\n",
    "    \n",
    "    \n",
    "mnist = tf.keras.datasets.fashion_mnist\n",
    "(training_images, training_labels), (test_images, test_labels) = mnist.load_data()\n",
    "training_images=training_images/255.0\n",
    "test_images=test_images/255.0\n",
    "model = tf.keras.models.Sequential([\n",
    "    tf.keras.layers.Flatten(),\n",
    "    tf.keras.layers.Dense(512, activation=tf.nn.relu),\n",
    "    tf.keras.layers.Dense(10, activation=tf.nn.softmax)\n",
    "])\n",
    "\n",
    "##model.compile(optimizer='adam', loss='sparse_categorical_crossentropy' , metrics=['mae'])\n",
    "model.compile(optimizer='adam', loss='sparse_categorical_crossentropy' , metrics=['accuracy'])\n",
    "#model.fit(training_images, training_labels, epochs=5, callbacks=[AITesting.callback(), AITesting.EarlyStoppingAtMinLoss()])\n",
    "model.fit(training_images, training_labels, epochs=1)\n",
    "\n",
    "conn = psycopg2.connect(\n",
    "    host=\"localhost\",\n",
    "    database=\"postgres\",\n",
    "    user=\"postgres\",\n",
    "    password=\"1234\")\n",
    "\n",
    "model.summary() \n",
    "\n",
    "#AITesting.get_model_summary(model, conn)\n",
    "#AITesting.get_bias_weight_in_each_layer(model)\n",
    "AITesting.insert_model_bias_weight(model, conn)\n",
    "\n",
    "\n",
    "\n"
   ]
  },
  {
   "cell_type": "code",
   "execution_count": null,
   "metadata": {},
   "outputs": [],
   "source": []
  },
  {
   "cell_type": "code",
   "execution_count": null,
   "metadata": {},
   "outputs": [],
   "source": []
  },
  {
   "cell_type": "code",
   "execution_count": null,
   "metadata": {},
   "outputs": [],
   "source": []
  },
  {
   "cell_type": "code",
   "execution_count": null,
   "metadata": {},
   "outputs": [],
   "source": []
  }
 ],
 "metadata": {
  "kernelspec": {
   "display_name": "Python 3",
   "language": "python",
   "name": "python3"
  },
  "language_info": {
   "codemirror_mode": {
    "name": "ipython",
    "version": 3
   },
   "file_extension": ".py",
   "mimetype": "text/x-python",
   "name": "python",
   "nbconvert_exporter": "python",
   "pygments_lexer": "ipython3",
   "version": "3.7.4"
  }
 },
 "nbformat": 4,
 "nbformat_minor": 2
}
